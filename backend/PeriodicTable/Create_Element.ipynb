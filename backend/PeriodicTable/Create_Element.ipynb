{
 "cells": [
  {
   "cell_type": "code",
   "execution_count": 4,
   "id": "boring-formula",
   "metadata": {},
   "outputs": [],
   "source": [
    "import os\n",
    "import django\n",
    "os.environ.setdefault('DJANGO_SETTINGS_MODULE', 'rest.settings')\n",
    "os.environ[\"DJANGO_ALLOW_ASYNC_UNSAFE\"] = \"true\"\n",
    "django.setup()\n",
    "    "
   ]
  },
  {
   "cell_type": "code",
   "execution_count": 1,
   "id": "regular-memory",
   "metadata": {},
   "outputs": [],
   "source": [
    "from Element.models import Element, Group, Period, Block"
   ]
  },
  {
   "cell_type": "code",
   "execution_count": 2,
   "id": "wired-drive",
   "metadata": {},
   "outputs": [],
   "source": [
    "from django.db.models import Model"
   ]
  },
  {
   "cell_type": "code",
   "execution_count": 5,
   "id": "adjusted-prague",
   "metadata": {},
   "outputs": [
    {
     "data": {
      "text/plain": [
       "<QuerySet [<Group: Group object (3)>, <Group: Group object (4)>, <Group: Group object (5)>, <Group: Group object (6)>, <Group: Group object (7)>, <Group: Group object (8)>, <Group: Group object (9)>, <Group: Group object (10)>, <Group: Group object (11)>, <Group: Group object (12)>, <Group: Group object (13)>, <Group: Group object (14)>, <Group: Group object (15)>, <Group: Group object (16)>, <Group: Group object (17)>, <Group: Group object (18)>, <Group: Group object (19)>, <Group: Group object (20)>]>"
      ]
     },
     "execution_count": 5,
     "metadata": {},
     "output_type": "execute_result"
    }
   ],
   "source": [
    "Group.objects.all()"
   ]
  },
  {
   "cell_type": "code",
   "execution_count": 6,
   "id": "human-halifax",
   "metadata": {},
   "outputs": [
    {
     "data": {
      "text/plain": [
       "<QuerySet []>"
      ]
     },
     "execution_count": 6,
     "metadata": {},
     "output_type": "execute_result"
    }
   ],
   "source": [
    "Period.objects.all()"
   ]
  },
  {
   "cell_type": "markdown",
   "id": "spread-specification",
   "metadata": {},
   "source": [
    "### Create Periods in Periodic Table"
   ]
  },
  {
   "cell_type": "code",
   "execution_count": 7,
   "id": "level-yacht",
   "metadata": {},
   "outputs": [],
   "source": [
    "for i in range(1,8):\n",
    "    p=Period(Period_name=i)\n",
    "    p.save()"
   ]
  },
  {
   "cell_type": "code",
   "execution_count": 9,
   "id": "plastic-extent",
   "metadata": {},
   "outputs": [],
   "source": [
    "import pandas as pd"
   ]
  },
  {
   "cell_type": "code",
   "execution_count": 72,
   "id": "spare-appendix",
   "metadata": {},
   "outputs": [],
   "source": [
    "data = pd.read_csv(\"Periodic Table of Elements.csv\")"
   ]
  },
  {
   "cell_type": "code",
   "execution_count": 73,
   "id": "practical-mining",
   "metadata": {},
   "outputs": [
    {
     "name": "stdout",
     "output_type": "stream",
     "text": [
      "<class 'pandas.core.frame.DataFrame'>\n",
      "RangeIndex: 118 entries, 0 to 117\n",
      "Data columns (total 29 columns):\n",
      " #   Column             Non-Null Count  Dtype  \n",
      "---  ------             --------------  -----  \n",
      " 0   AtomicNumber       118 non-null    int64  \n",
      " 1   Element            118 non-null    object \n",
      " 2   Symbol             118 non-null    object \n",
      " 3   Block              118 non-null    object \n",
      " 4   AtomicMass         118 non-null    float64\n",
      " 5   NumberofNeutrons   118 non-null    int64  \n",
      " 6   NumberofProtons    118 non-null    int64  \n",
      " 7   NumberofElectrons  118 non-null    int64  \n",
      " 8   Period             118 non-null    int64  \n",
      " 9   Group              90 non-null     float64\n",
      " 10  Phase              118 non-null    object \n",
      " 11  Radioactive        37 non-null     object \n",
      " 12  Natural            90 non-null     object \n",
      " 13  Metal              92 non-null     object \n",
      " 14  Nonmetal           19 non-null     object \n",
      " 15  Metalloid          7 non-null      object \n",
      " 16  Type               115 non-null    object \n",
      " 17  AtomicRadius       86 non-null     float64\n",
      " 18  Electronegativity  96 non-null     float64\n",
      " 19  FirstIonization    102 non-null    float64\n",
      " 20  Density            105 non-null    float64\n",
      " 21  MeltingPoint       98 non-null     float64\n",
      " 22  BoilingPoint       98 non-null     float64\n",
      " 23  NumberOfIsotopes   103 non-null    float64\n",
      " 24  Discoverer         109 non-null    object \n",
      " 25  Year               107 non-null    float64\n",
      " 26  SpecificHeat       85 non-null     float64\n",
      " 27  NumberofShells     118 non-null    int64  \n",
      " 28  NumberofValence    49 non-null     float64\n",
      "dtypes: float64(12), int64(6), object(11)\n",
      "memory usage: 26.9+ KB\n"
     ]
    }
   ],
   "source": [
    "data.info()"
   ]
  },
  {
   "cell_type": "code",
   "execution_count": 74,
   "id": "tested-pocket",
   "metadata": {},
   "outputs": [
    {
     "data": {
      "text/html": [
       "<div>\n",
       "<style scoped>\n",
       "    .dataframe tbody tr th:only-of-type {\n",
       "        vertical-align: middle;\n",
       "    }\n",
       "\n",
       "    .dataframe tbody tr th {\n",
       "        vertical-align: top;\n",
       "    }\n",
       "\n",
       "    .dataframe thead th {\n",
       "        text-align: right;\n",
       "    }\n",
       "</style>\n",
       "<table border=\"1\" class=\"dataframe\">\n",
       "  <thead>\n",
       "    <tr style=\"text-align: right;\">\n",
       "      <th></th>\n",
       "      <th>AtomicNumber</th>\n",
       "      <th>Element</th>\n",
       "      <th>Symbol</th>\n",
       "      <th>Block</th>\n",
       "      <th>AtomicMass</th>\n",
       "      <th>NumberofNeutrons</th>\n",
       "      <th>NumberofProtons</th>\n",
       "      <th>NumberofElectrons</th>\n",
       "      <th>Period</th>\n",
       "      <th>Group</th>\n",
       "      <th>...</th>\n",
       "      <th>FirstIonization</th>\n",
       "      <th>Density</th>\n",
       "      <th>MeltingPoint</th>\n",
       "      <th>BoilingPoint</th>\n",
       "      <th>NumberOfIsotopes</th>\n",
       "      <th>Discoverer</th>\n",
       "      <th>Year</th>\n",
       "      <th>SpecificHeat</th>\n",
       "      <th>NumberofShells</th>\n",
       "      <th>NumberofValence</th>\n",
       "    </tr>\n",
       "  </thead>\n",
       "  <tbody>\n",
       "    <tr>\n",
       "      <th>0</th>\n",
       "      <td>1</td>\n",
       "      <td>Hydrogen</td>\n",
       "      <td>H</td>\n",
       "      <td>s</td>\n",
       "      <td>1.007</td>\n",
       "      <td>0</td>\n",
       "      <td>1</td>\n",
       "      <td>1</td>\n",
       "      <td>1</td>\n",
       "      <td>1.0</td>\n",
       "      <td>...</td>\n",
       "      <td>13.5984</td>\n",
       "      <td>0.000090</td>\n",
       "      <td>14.175</td>\n",
       "      <td>20.28</td>\n",
       "      <td>3.0</td>\n",
       "      <td>Cavendish</td>\n",
       "      <td>1766.0</td>\n",
       "      <td>14.304</td>\n",
       "      <td>1</td>\n",
       "      <td>1.0</td>\n",
       "    </tr>\n",
       "    <tr>\n",
       "      <th>1</th>\n",
       "      <td>2</td>\n",
       "      <td>Helium</td>\n",
       "      <td>He</td>\n",
       "      <td>s</td>\n",
       "      <td>4.002</td>\n",
       "      <td>2</td>\n",
       "      <td>2</td>\n",
       "      <td>2</td>\n",
       "      <td>1</td>\n",
       "      <td>18.0</td>\n",
       "      <td>...</td>\n",
       "      <td>24.5874</td>\n",
       "      <td>0.000179</td>\n",
       "      <td>NaN</td>\n",
       "      <td>4.22</td>\n",
       "      <td>5.0</td>\n",
       "      <td>Janssen</td>\n",
       "      <td>1868.0</td>\n",
       "      <td>5.193</td>\n",
       "      <td>1</td>\n",
       "      <td>NaN</td>\n",
       "    </tr>\n",
       "    <tr>\n",
       "      <th>2</th>\n",
       "      <td>3</td>\n",
       "      <td>Lithium</td>\n",
       "      <td>Li</td>\n",
       "      <td>s</td>\n",
       "      <td>6.941</td>\n",
       "      <td>4</td>\n",
       "      <td>3</td>\n",
       "      <td>3</td>\n",
       "      <td>2</td>\n",
       "      <td>1.0</td>\n",
       "      <td>...</td>\n",
       "      <td>5.3917</td>\n",
       "      <td>0.534000</td>\n",
       "      <td>453.850</td>\n",
       "      <td>1615.00</td>\n",
       "      <td>5.0</td>\n",
       "      <td>Arfvedson</td>\n",
       "      <td>1817.0</td>\n",
       "      <td>3.582</td>\n",
       "      <td>2</td>\n",
       "      <td>1.0</td>\n",
       "    </tr>\n",
       "    <tr>\n",
       "      <th>3</th>\n",
       "      <td>4</td>\n",
       "      <td>Beryllium</td>\n",
       "      <td>Be</td>\n",
       "      <td>s</td>\n",
       "      <td>9.012</td>\n",
       "      <td>5</td>\n",
       "      <td>4</td>\n",
       "      <td>4</td>\n",
       "      <td>2</td>\n",
       "      <td>2.0</td>\n",
       "      <td>...</td>\n",
       "      <td>9.3227</td>\n",
       "      <td>1.850000</td>\n",
       "      <td>1560.150</td>\n",
       "      <td>2742.00</td>\n",
       "      <td>6.0</td>\n",
       "      <td>Vaulquelin</td>\n",
       "      <td>1798.0</td>\n",
       "      <td>1.825</td>\n",
       "      <td>2</td>\n",
       "      <td>2.0</td>\n",
       "    </tr>\n",
       "    <tr>\n",
       "      <th>4</th>\n",
       "      <td>5</td>\n",
       "      <td>Boron</td>\n",
       "      <td>B</td>\n",
       "      <td>p</td>\n",
       "      <td>10.811</td>\n",
       "      <td>6</td>\n",
       "      <td>5</td>\n",
       "      <td>5</td>\n",
       "      <td>2</td>\n",
       "      <td>13.0</td>\n",
       "      <td>...</td>\n",
       "      <td>8.2980</td>\n",
       "      <td>2.340000</td>\n",
       "      <td>2573.150</td>\n",
       "      <td>4200.00</td>\n",
       "      <td>6.0</td>\n",
       "      <td>Gay-Lussac</td>\n",
       "      <td>1808.0</td>\n",
       "      <td>1.026</td>\n",
       "      <td>2</td>\n",
       "      <td>3.0</td>\n",
       "    </tr>\n",
       "  </tbody>\n",
       "</table>\n",
       "<p>5 rows × 29 columns</p>\n",
       "</div>"
      ],
      "text/plain": [
       "   AtomicNumber    Element Symbol Block  AtomicMass  NumberofNeutrons  \\\n",
       "0             1   Hydrogen      H     s       1.007                 0   \n",
       "1             2     Helium     He     s       4.002                 2   \n",
       "2             3    Lithium     Li     s       6.941                 4   \n",
       "3             4  Beryllium     Be     s       9.012                 5   \n",
       "4             5      Boron      B     p      10.811                 6   \n",
       "\n",
       "   NumberofProtons  NumberofElectrons  Period  Group  ... FirstIonization  \\\n",
       "0                1                  1       1    1.0  ...         13.5984   \n",
       "1                2                  2       1   18.0  ...         24.5874   \n",
       "2                3                  3       2    1.0  ...          5.3917   \n",
       "3                4                  4       2    2.0  ...          9.3227   \n",
       "4                5                  5       2   13.0  ...          8.2980   \n",
       "\n",
       "    Density MeltingPoint BoilingPoint NumberOfIsotopes  Discoverer    Year  \\\n",
       "0  0.000090       14.175        20.28              3.0   Cavendish  1766.0   \n",
       "1  0.000179          NaN         4.22              5.0     Janssen  1868.0   \n",
       "2  0.534000      453.850      1615.00              5.0   Arfvedson  1817.0   \n",
       "3  1.850000     1560.150      2742.00              6.0  Vaulquelin  1798.0   \n",
       "4  2.340000     2573.150      4200.00              6.0  Gay-Lussac  1808.0   \n",
       "\n",
       "   SpecificHeat  NumberofShells  NumberofValence  \n",
       "0        14.304               1              1.0  \n",
       "1         5.193               1              NaN  \n",
       "2         3.582               2              1.0  \n",
       "3         1.825               2              2.0  \n",
       "4         1.026               2              3.0  \n",
       "\n",
       "[5 rows x 29 columns]"
      ]
     },
     "execution_count": 74,
     "metadata": {},
     "output_type": "execute_result"
    }
   ],
   "source": [
    "data.head()"
   ]
  },
  {
   "cell_type": "code",
   "execution_count": 75,
   "id": "silent-gregory",
   "metadata": {},
   "outputs": [
    {
     "data": {
      "text/plain": [
       "1"
      ]
     },
     "execution_count": 75,
     "metadata": {},
     "output_type": "execute_result"
    }
   ],
   "source": [
    "data[data.columns[0]][0]"
   ]
  },
  {
   "cell_type": "code",
   "execution_count": 76,
   "id": "seasonal-martin",
   "metadata": {},
   "outputs": [
    {
     "data": {
      "text/plain": [
       "1.0     7\n",
       "18.0    7\n",
       "17.0    6\n",
       "15.0    6\n",
       "16.0    6\n",
       "14.0    6\n",
       "2.0     6\n",
       "13.0    6\n",
       "5.0     4\n",
       "10.0    4\n",
       "8.0     4\n",
       "12.0    4\n",
       "7.0     4\n",
       "9.0     4\n",
       "11.0    4\n",
       "3.0     4\n",
       "6.0     4\n",
       "4.0     4\n",
       "Name: Group, dtype: int64"
      ]
     },
     "execution_count": 76,
     "metadata": {},
     "output_type": "execute_result"
    }
   ],
   "source": [
    "data['Group'].value_counts()"
   ]
  },
  {
   "cell_type": "markdown",
   "id": "backed-barcelona",
   "metadata": {},
   "source": [
    "### Data Preprocessing"
   ]
  },
  {
   "cell_type": "code",
   "execution_count": 77,
   "id": "little-schedule",
   "metadata": {},
   "outputs": [],
   "source": [
    "data['Group'] = data['Group'].fillna(0)"
   ]
  },
  {
   "cell_type": "code",
   "execution_count": 78,
   "id": "federal-application",
   "metadata": {},
   "outputs": [],
   "source": [
    "data['Group'] = data['Group'].astype(int)"
   ]
  },
  {
   "cell_type": "code",
   "execution_count": 79,
   "id": "authorized-geneva",
   "metadata": {},
   "outputs": [
    {
     "data": {
      "text/plain": [
       "0     28\n",
       "1      7\n",
       "18     7\n",
       "2      6\n",
       "13     6\n",
       "14     6\n",
       "15     6\n",
       "16     6\n",
       "17     6\n",
       "3      4\n",
       "4      4\n",
       "5      4\n",
       "6      4\n",
       "7      4\n",
       "8      4\n",
       "10     4\n",
       "11     4\n",
       "12     4\n",
       "9      4\n",
       "Name: Group, dtype: int64"
      ]
     },
     "execution_count": 79,
     "metadata": {},
     "output_type": "execute_result"
    }
   ],
   "source": [
    "data['Group'].value_counts()"
   ]
  },
  {
   "cell_type": "code",
   "execution_count": 80,
   "id": "sustained-vehicle",
   "metadata": {},
   "outputs": [
    {
     "data": {
      "text/plain": [
       "float"
      ]
     },
     "execution_count": 80,
     "metadata": {},
     "output_type": "execute_result"
    }
   ],
   "source": [
    "nan_value=data['Radioactive'][0]\n",
    "type(nan_value)"
   ]
  },
  {
   "cell_type": "code",
   "execution_count": 81,
   "id": "blessed-people",
   "metadata": {},
   "outputs": [],
   "source": [
    "data['Radioactive'] = data['Radioactive'] .map( \n",
    "                   {'yes':True ,nan_value:False}) "
   ]
  },
  {
   "cell_type": "code",
   "execution_count": 82,
   "id": "mechanical-seafood",
   "metadata": {},
   "outputs": [
    {
     "data": {
      "text/plain": [
       "False    81\n",
       "True     37\n",
       "Name: Radioactive, dtype: int64"
      ]
     },
     "execution_count": 82,
     "metadata": {},
     "output_type": "execute_result"
    }
   ],
   "source": [
    "data['Radioactive'].value_counts()"
   ]
  },
  {
   "cell_type": "code",
   "execution_count": 83,
   "id": "egyptian-doctor",
   "metadata": {},
   "outputs": [],
   "source": [
    "data['Natural'] = data['Natural'] .map( \n",
    "                   {'yes':True ,nan_value:False}) "
   ]
  },
  {
   "cell_type": "code",
   "execution_count": 84,
   "id": "elegant-cuisine",
   "metadata": {},
   "outputs": [],
   "source": [
    "data['Metal'] = data['Metal'] .map( \n",
    "                   {'yes':True ,nan_value:False}) "
   ]
  },
  {
   "cell_type": "code",
   "execution_count": 85,
   "id": "adapted-projection",
   "metadata": {},
   "outputs": [],
   "source": [
    "data['Nonmetal'] = data['Nonmetal'] .map( \n",
    "                   {'yes':True ,nan_value:False}) "
   ]
  },
  {
   "cell_type": "code",
   "execution_count": 86,
   "id": "satellite-multiple",
   "metadata": {},
   "outputs": [],
   "source": [
    "data['Metalloid'] = data['Metalloid'] .map( \n",
    "                   {'yes':True ,nan_value:False}) "
   ]
  },
  {
   "cell_type": "code",
   "execution_count": 87,
   "id": "focal-spouse",
   "metadata": {},
   "outputs": [
    {
     "data": {
      "text/plain": [
       "Transition Metal        29\n",
       "Actinide                16\n",
       "Lanthanide              15\n",
       "Transactinide           11\n",
       "Metalloid                7\n",
       "Noble Gas                7\n",
       "Metal                    7\n",
       "Nonmetal                 7\n",
       "Alkali Metal             6\n",
       "Alkaline Earth Metal     6\n",
       "Halogen                  4\n",
       "Name: Type, dtype: int64"
      ]
     },
     "execution_count": 87,
     "metadata": {},
     "output_type": "execute_result"
    }
   ],
   "source": [
    "data['Type'].value_counts()"
   ]
  },
  {
   "cell_type": "code",
   "execution_count": 88,
   "id": "fancy-tackle",
   "metadata": {},
   "outputs": [],
   "source": [
    "data['Type'] = data['Type'].map(\n",
    "                    {'Transition Metal':'Transition_Metal',\n",
    "                    'Noble Gas':'Noble_Gas',\n",
    "                    'Alkali Metal':'Alkali_Metal',\n",
    "                    'Alkaline Earth Metal':'Alkaline_Earth_Metal',\n",
    "                     'Metal':'Metal',\n",
    "                     'Nonmetal':'Nonmetal',\n",
    "                     'Actinide':'Actinide',\n",
    "                     'Lanthanide':'Lanthanide',\n",
    "                     'Transactinide':'Transactinide',\n",
    "                     'Halogen':'Halogen',\n",
    "                     'Metalloid':'Metalloid',\n",
    "                     nan_value:'Not_defined'\n",
    "                    })"
   ]
  },
  {
   "cell_type": "code",
   "execution_count": 126,
   "id": "compact-garlic",
   "metadata": {},
   "outputs": [
    {
     "name": "stdout",
     "output_type": "stream",
     "text": [
      "<class 'pandas.core.frame.DataFrame'>\n",
      "RangeIndex: 118 entries, 0 to 117\n",
      "Data columns (total 29 columns):\n",
      " #   Column             Non-Null Count  Dtype  \n",
      "---  ------             --------------  -----  \n",
      " 0   AtomicNumber       118 non-null    int64  \n",
      " 1   Element            118 non-null    object \n",
      " 2   Symbol             118 non-null    object \n",
      " 3   Block              118 non-null    object \n",
      " 4   AtomicMass         118 non-null    float64\n",
      " 5   NumberofNeutrons   118 non-null    int64  \n",
      " 6   NumberofProtons    118 non-null    int64  \n",
      " 7   NumberofElectrons  118 non-null    int64  \n",
      " 8   Period             118 non-null    int64  \n",
      " 9   Group              118 non-null    int32  \n",
      " 10  Phase              118 non-null    object \n",
      " 11  Radioactive        118 non-null    bool   \n",
      " 12  Natural            118 non-null    bool   \n",
      " 13  Metal              118 non-null    bool   \n",
      " 14  Nonmetal           118 non-null    bool   \n",
      " 15  Metalloid          118 non-null    bool   \n",
      " 16  Type               118 non-null    object \n",
      " 17  AtomicRadius       118 non-null    float64\n",
      " 18  Electronegativity  118 non-null    float64\n",
      " 19  FirstIonization    102 non-null    float64\n",
      " 20  Density            105 non-null    float64\n",
      " 21  MeltingPoint       98 non-null     float64\n",
      " 22  BoilingPoint       98 non-null     float64\n",
      " 23  NumberOfIsotopes   103 non-null    float64\n",
      " 24  Discoverer         109 non-null    object \n",
      " 25  Year               107 non-null    float64\n",
      " 26  SpecificHeat       85 non-null     float64\n",
      " 27  NumberofShells     118 non-null    int64  \n",
      " 28  NumberofValence    49 non-null     float64\n",
      "dtypes: bool(5), float64(11), int32(1), int64(6), object(6)\n",
      "memory usage: 22.4+ KB\n"
     ]
    }
   ],
   "source": [
    "data.info()"
   ]
  },
  {
   "cell_type": "code",
   "execution_count": 136,
   "id": "satellite-highway",
   "metadata": {},
   "outputs": [
    {
     "data": {
      "text/plain": [
       "False"
      ]
     },
     "execution_count": 136,
     "metadata": {},
     "output_type": "execute_result"
    }
   ],
   "source": [
    "data['FirstIonization'].value_counts()\n",
    "-1.0 in data['SpecificHeat']"
   ]
  },
  {
   "cell_type": "code",
   "execution_count": 97,
   "id": "capable-powell",
   "metadata": {},
   "outputs": [],
   "source": [
    "if data.AtomicRadius[117] == nan_value:\n",
    "    print('ad')"
   ]
  },
  {
   "cell_type": "code",
   "execution_count": 102,
   "id": "handed-skating",
   "metadata": {},
   "outputs": [],
   "source": [
    "nan_value = data.AtomicRadius[117]"
   ]
  },
  {
   "cell_type": "code",
   "execution_count": 103,
   "id": "fuzzy-bearing",
   "metadata": {},
   "outputs": [
    {
     "data": {
      "text/plain": [
       "numpy.float64"
      ]
     },
     "execution_count": 103,
     "metadata": {},
     "output_type": "execute_result"
    }
   ],
   "source": [
    "type(nan_value)"
   ]
  },
  {
   "cell_type": "code",
   "execution_count": 104,
   "id": "neural-paint",
   "metadata": {},
   "outputs": [],
   "source": [
    "data['AtomicRadius'] = data['AtomicRadius'].fillna(0)"
   ]
  },
  {
   "cell_type": "markdown",
   "id": "secondary-globe",
   "metadata": {},
   "source": [
    "#### Null values in Elenegativity fill with -1"
   ]
  },
  {
   "cell_type": "code",
   "execution_count": 124,
   "id": "pharmaceutical-output",
   "metadata": {},
   "outputs": [],
   "source": [
    "data['Electronegativity'] = data['Electronegativity'].fillna(-1)"
   ]
  },
  {
   "cell_type": "code",
   "execution_count": 129,
   "id": "literary-national",
   "metadata": {},
   "outputs": [],
   "source": [
    "data['FirstIonization'] = data['FirstIonization'].fillna(-1)"
   ]
  },
  {
   "cell_type": "code",
   "execution_count": 130,
   "id": "blind-whale",
   "metadata": {},
   "outputs": [],
   "source": [
    "data['Density'] = data['Density'].fillna(-1)"
   ]
  },
  {
   "cell_type": "code",
   "execution_count": 131,
   "id": "revolutionary-transparency",
   "metadata": {},
   "outputs": [],
   "source": [
    "data['MeltingPoint'] = data['MeltingPoint'].fillna(-1)"
   ]
  },
  {
   "cell_type": "code",
   "execution_count": 132,
   "id": "honey-begin",
   "metadata": {},
   "outputs": [],
   "source": [
    "data['BoilingPoint'] = data['BoilingPoint'].fillna(-1)"
   ]
  },
  {
   "cell_type": "code",
   "execution_count": 133,
   "id": "coordinated-object",
   "metadata": {},
   "outputs": [],
   "source": [
    "data['NumberOfIsotopes'] = data['NumberOfIsotopes'].fillna(-1)"
   ]
  },
  {
   "cell_type": "code",
   "execution_count": 134,
   "id": "connected-conservative",
   "metadata": {},
   "outputs": [],
   "source": [
    "data['Discoverer'] = data['Discoverer'].fillna('Not_defined')"
   ]
  },
  {
   "cell_type": "code",
   "execution_count": 140,
   "id": "amino-alexandria",
   "metadata": {},
   "outputs": [],
   "source": [
    "data['Year'] = data['Year'].fillna(0)"
   ]
  },
  {
   "cell_type": "code",
   "execution_count": 141,
   "id": "detailed-lucas",
   "metadata": {},
   "outputs": [],
   "source": [
    "data['SpecificHeat'] = data['SpecificHeat'].fillna(-1)"
   ]
  },
  {
   "cell_type": "code",
   "execution_count": 137,
   "id": "recognized-debate",
   "metadata": {},
   "outputs": [],
   "source": [
    "data['NumberofValence'] = data['NumberofValence'].fillna(-1)"
   ]
  },
  {
   "cell_type": "code",
   "execution_count": 107,
   "id": "universal-execution",
   "metadata": {},
   "outputs": [
    {
     "data": {
      "text/plain": [
       "Index(['AtomicNumber', 'Element', 'Symbol', 'Block', 'AtomicMass',\n",
       "       'NumberofNeutrons', 'NumberofProtons', 'NumberofElectrons', 'Period',\n",
       "       'Group', 'Phase', 'Radioactive', 'Natural', 'Metal', 'Nonmetal',\n",
       "       'Metalloid', 'Type', 'AtomicRadius', 'Electronegativity',\n",
       "       'FirstIonization', 'Density', 'MeltingPoint', 'BoilingPoint',\n",
       "       'NumberOfIsotopes', 'Discoverer', 'Year', 'SpecificHeat',\n",
       "       'NumberofShells', 'NumberofValence'],\n",
       "      dtype='object')"
      ]
     },
     "execution_count": 107,
     "metadata": {},
     "output_type": "execute_result"
    }
   ],
   "source": [
    "data.columns"
   ]
  },
  {
   "cell_type": "code",
   "execution_count": 142,
   "id": "helpful-supply",
   "metadata": {},
   "outputs": [
    {
     "name": "stdout",
     "output_type": "stream",
     "text": [
      "<class 'pandas.core.frame.DataFrame'>\n",
      "RangeIndex: 118 entries, 0 to 117\n",
      "Data columns (total 29 columns):\n",
      " #   Column             Non-Null Count  Dtype  \n",
      "---  ------             --------------  -----  \n",
      " 0   AtomicNumber       118 non-null    int64  \n",
      " 1   Element            118 non-null    object \n",
      " 2   Symbol             118 non-null    object \n",
      " 3   Block              118 non-null    object \n",
      " 4   AtomicMass         118 non-null    float64\n",
      " 5   NumberofNeutrons   118 non-null    int64  \n",
      " 6   NumberofProtons    118 non-null    int64  \n",
      " 7   NumberofElectrons  118 non-null    int64  \n",
      " 8   Period             118 non-null    int64  \n",
      " 9   Group              118 non-null    int32  \n",
      " 10  Phase              118 non-null    object \n",
      " 11  Radioactive        118 non-null    bool   \n",
      " 12  Natural            118 non-null    bool   \n",
      " 13  Metal              118 non-null    bool   \n",
      " 14  Nonmetal           118 non-null    bool   \n",
      " 15  Metalloid          118 non-null    bool   \n",
      " 16  Type               118 non-null    object \n",
      " 17  AtomicRadius       118 non-null    float64\n",
      " 18  Electronegativity  118 non-null    float64\n",
      " 19  FirstIonization    118 non-null    float64\n",
      " 20  Density            118 non-null    float64\n",
      " 21  MeltingPoint       118 non-null    float64\n",
      " 22  BoilingPoint       118 non-null    float64\n",
      " 23  NumberOfIsotopes   118 non-null    float64\n",
      " 24  Discoverer         118 non-null    object \n",
      " 25  Year               118 non-null    float64\n",
      " 26  SpecificHeat       118 non-null    float64\n",
      " 27  NumberofShells     118 non-null    int64  \n",
      " 28  NumberofValence    118 non-null    float64\n",
      "dtypes: bool(5), float64(11), int32(1), int64(6), object(6)\n",
      "memory usage: 22.4+ KB\n"
     ]
    }
   ],
   "source": [
    "data.info()"
   ]
  },
  {
   "cell_type": "code",
   "execution_count": 143,
   "id": "unsigned-lease",
   "metadata": {},
   "outputs": [
    {
     "name": "stdout",
     "output_type": "stream",
     "text": [
      "0\n",
      "1\n",
      "2\n",
      "3\n",
      "4\n",
      "5\n",
      "6\n",
      "7\n",
      "8\n",
      "9\n",
      "10\n",
      "11\n",
      "12\n",
      "13\n",
      "14\n",
      "15\n",
      "16\n",
      "17\n",
      "18\n",
      "19\n",
      "20\n",
      "21\n",
      "22\n",
      "23\n",
      "24\n",
      "25\n",
      "26\n",
      "27\n",
      "28\n",
      "29\n",
      "30\n",
      "31\n",
      "32\n",
      "33\n",
      "34\n",
      "35\n",
      "36\n",
      "37\n",
      "38\n",
      "39\n",
      "40\n",
      "41\n",
      "42\n",
      "43\n",
      "44\n",
      "45\n",
      "46\n",
      "47\n",
      "48\n",
      "49\n",
      "50\n",
      "51\n",
      "52\n",
      "53\n",
      "54\n",
      "55\n",
      "56\n",
      "57\n",
      "58\n",
      "59\n",
      "60\n",
      "61\n",
      "62\n",
      "63\n",
      "64\n",
      "65\n",
      "66\n",
      "67\n",
      "68\n",
      "69\n",
      "70\n",
      "71\n",
      "72\n",
      "73\n",
      "74\n",
      "75\n",
      "76\n",
      "77\n",
      "78\n",
      "79\n",
      "80\n",
      "81\n",
      "82\n",
      "83\n",
      "84\n",
      "85\n",
      "86\n",
      "87\n",
      "88\n",
      "89\n",
      "90\n",
      "91\n",
      "92\n",
      "93\n",
      "94\n",
      "95\n",
      "96\n",
      "97\n",
      "98\n",
      "99\n",
      "100\n",
      "101\n",
      "102\n",
      "103\n",
      "104\n",
      "105\n",
      "106\n",
      "107\n",
      "108\n",
      "109\n",
      "110\n",
      "111\n",
      "112\n",
      "113\n",
      "114\n",
      "115\n",
      "116\n",
      "117\n"
     ]
    }
   ],
   "source": [
    "for i in range(0,118):\n",
    "    print(i)\n",
    "    element = Element(AtomicNumber=data['AtomicNumber'][i], Element=data['Element'][i], Symbol=data['Symbol'][i],\n",
    "                  Block=Block.objects.get(Block_name=data['Block'][i]), AtomicMass=data['AtomicMass'][i],\n",
    "                  NumberofNeutrons=data['NumberofNeutrons'][i],\n",
    "                  NumberofProtons=data['NumberofProtons'][i], NumberofElectrons= data['NumberofElectrons'][i],\n",
    "                  Period=Period.objects.get(Period_name=data['Period'][i]), Group=Group.objects.get(Group_name=data['Group'][i]),\n",
    "                  Phase=data['Phase'][i],\n",
    "                  Radioactive=data['Radioactive'][i],\n",
    "                  Natural=data['Natural'][i], Metal=data['Metal'][i], Nonmetal=data['Nonmetal'][i], \n",
    "                  Metalloid=data['Metalloid'][i], Type=data['Type'][i], AtomicRadius=data['AtomicRadius'][i],\n",
    "                  Electronegativity=data['Electronegativity'][i], FirstIonization=data['FirstIonization'][i],\n",
    "                  Density=data['Density'][i], MeltingPoint=data['MeltingPoint'][i], BoilingPoint=data['BoilingPoint'][i],\n",
    "                  NumberOfIsotopes=data['NumberOfIsotopes'][i], Discoverer=data['Discoverer'][i], Year=data['Year'][i],\n",
    "                  SpecificHeat=data['SpecificHeat'][i], NumberofShells=data['NumberofShells'][i],\n",
    "                  NumberofValence=data['NumberofValence'][i])\n",
    "    element.save()"
   ]
  },
  {
   "cell_type": "code",
   "execution_count": 144,
   "id": "grateful-status",
   "metadata": {
    "scrolled": false
   },
   "outputs": [],
   "source": [
    "# for i in range(0,118):\n",
    "#     print(i)\n",
    "#     element = Element(AtomicNumber=data['AtomicNumber'][i], Element=data['Element'][i], Symbol=data['Symbol'][i],\n",
    "#                   Block=Block.objects.get(Block_name=data['Block'][i]), AtomicMass=data['AtomicMass'][i],\n",
    "#                   NumberofNeutrons=data['NumberofNeutrons'][i],\n",
    "#                   NumberofProtons=data['NumberofProtons'][i], NumberofElectrons= data['NumberofElectrons'][i],\n",
    "#                   Period=Period.objects.get(Period_name=data['Period'][i]), Group=Group.objects.get(Group_name=data['Group'][i]),\n",
    "#                   Phase=data['Phase'][i],\n",
    "#                   Radioactive=data['Radioactive'][i],\n",
    "#                   Natural=data['Natural'][i], Metal=data['Metal'][i], Nonmetal=data['Nonmetal'][i], \n",
    "#                   Metalloid=data['Metalloid'][i], Type=data['Type'][i], AtomicRadius=data['AtomicRadius'][i],\n",
    "#                   FirstIonization=data['FirstIonization'][i],\n",
    "#                   Density=data['Density'][i], BoilingPoint=data['BoilingPoint'][i],\n",
    "#                   NumberOfIsotopes=data['NumberOfIsotopes'][i], Discoverer=data['Discoverer'][i], Year=data['Year'][i],\n",
    "#                   SpecificHeat=data['SpecificHeat'][i], NumberofShells=data['NumberofShells'][i])\n",
    "#     element.save()"
   ]
  },
  {
   "cell_type": "code",
   "execution_count": 145,
   "id": "violent-leader",
   "metadata": {},
   "outputs": [],
   "source": [
    "# element = Element(AtomicNumber=data['AtomicNumber'][0], Element=data['Element'][0], Symbol=data['Symbol'][0],\n",
    "#                   Block=Block.objects.get(Block_name=data['Block'][0]), AtomicMass=data['AtomicMass'][0],\n",
    "#                   NumberofNeutrons=data['NumberofNeutrons'][0],\n",
    "#                   NumberofProtons=data['NumberofProtons'][0], NumberofElectrons= data['NumberofElectrons'][0],\n",
    "#                   Period=Period.objects.get(Period_name=data['Period'][0]), Group=Group.objects.get(Group_name=data['Group'][0]),\n",
    "#                   Phase=data['Phase'][0],\n",
    "#                   Radioactive=data['Radioactive'][0],\n",
    "#                   Natural=data['Natural'][0], Metal=data['Metal'][0], Nonmetal=data['Nonmetal'][0], \n",
    "#                   Metalloid=data['Metalloid'][0], Type=data['Type'][0], AtomicRadius=data['AtomicRadius'][0],\n",
    "#                   Electronegativity=data['Electronegativity'][0], FirstIonization=data['FirstIonization'][0],\n",
    "#                   Density=data['Density'][0], MeltingPoint=data['MeltingPoint'][0], BoilingPoint=data['BoilingPoint'][0],\n",
    "#                   NumberOfIsotopes=data['NumberOfIsotopes'][0], Discoverer=data['Discoverer'][0], Year=data['Year'][0],\n",
    "#                   SpecificHeat=data['SpecificHeat'][0], NumberofShells=data['NumberofShells'][0],\n",
    "#                   NumberofValence=data['NumberofValence'][0])\n",
    "# element.save()"
   ]
  },
  {
   "cell_type": "code",
   "execution_count": null,
   "id": "vanilla-contributor",
   "metadata": {},
   "outputs": [],
   "source": []
  }
 ],
 "metadata": {
  "kernelspec": {
   "display_name": "Django Shell-Plus",
   "language": "python",
   "name": "django_extensions"
  },
  "language_info": {
   "codemirror_mode": {
    "name": "ipython",
    "version": 3
   },
   "file_extension": ".py",
   "mimetype": "text/x-python",
   "name": "python",
   "nbconvert_exporter": "python",
   "pygments_lexer": "ipython3",
   "version": "3.8.6"
  }
 },
 "nbformat": 4,
 "nbformat_minor": 5
}
